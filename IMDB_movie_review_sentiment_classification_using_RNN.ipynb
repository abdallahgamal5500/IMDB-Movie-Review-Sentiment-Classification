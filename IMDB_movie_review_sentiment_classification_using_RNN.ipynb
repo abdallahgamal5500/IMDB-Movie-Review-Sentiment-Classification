{
  "nbformat": 4,
  "nbformat_minor": 0,
  "metadata": {
    "colab": {
      "name": "IMDB movie review sentiment classification using RNN.ipynb",
      "provenance": [],
      "collapsed_sections": [],
      "include_colab_link": true
    },
    "kernelspec": {
      "name": "python3",
      "display_name": "Python 3"
    },
    "accelerator": "GPU"
  },
  "cells": [
    {
      "cell_type": "markdown",
      "metadata": {
        "id": "view-in-github",
        "colab_type": "text"
      },
      "source": [
        "<a href=\"https://colab.research.google.com/github/abdallahgamal5500/IMDB-Movie-Review-Sentiment-Classification/blob/main/IMDB_movie_review_sentiment_classification_using_RNN.ipynb\" target=\"_parent\"><img src=\"https://colab.research.google.com/assets/colab-badge.svg\" alt=\"Open In Colab\"/></a>"
      ]
    },
    {
      "cell_type": "code",
      "metadata": {
        "id": "MxkJoQBkUIHC"
      },
      "source": [
        "import numpy as np\n",
        "import pandas as pd\n",
        "import matplotlib.pyplot as plt\n",
        "import tensorflow as tf\n",
        "from tensorflow.keras import datasets, regularizers\n",
        "from tensorflow.keras.models import Sequential\n",
        "from keras.preprocessing import sequence\n",
        "from keras.layers.embeddings import Embedding\n",
        "from tensorflow.keras.layers import Dense,SimpleRNN,LSTM,Dropout,BatchNormalization"
      ],
      "execution_count": null,
      "outputs": []
    },
    {
      "cell_type": "code",
      "metadata": {
        "id": "ZaTwK7ojXr2F",
        "outputId": "4e3ede01-76e8-4ba4-ba7d-a3255d799fae",
        "colab": {
          "base_uri": "https://localhost:8080/",
          "height": 35
        }
      },
      "source": [
        "tf.__version__"
      ],
      "execution_count": null,
      "outputs": [
        {
          "output_type": "execute_result",
          "data": {
            "text/plain": [
              "'2.8.0'"
            ],
            "application/vnd.google.colaboratory.intrinsic+json": {
              "type": "string"
            }
          },
          "metadata": {},
          "execution_count": 80
        }
      ]
    },
    {
      "cell_type": "code",
      "source": [
        "top_words = 20000;\n",
        "input_length = 1000;"
      ],
      "metadata": {
        "id": "J8r4cGZVvECC"
      },
      "execution_count": null,
      "outputs": []
    },
    {
      "cell_type": "code",
      "metadata": {
        "id": "MXUkhkMfU4wq"
      },
      "source": [
        "(x_train, y_train), (x_test, y_test) = datasets.imdb.load_data(num_words=top_words)"
      ],
      "execution_count": null,
      "outputs": []
    },
    {
      "cell_type": "code",
      "source": [
        "print(x_train.shape)"
      ],
      "metadata": {
        "colab": {
          "base_uri": "https://localhost:8080/"
        },
        "id": "3YVRPVD8vLJ7",
        "outputId": "3ca21c89-96d5-4db7-e580-a68c1d15c1b9"
      },
      "execution_count": null,
      "outputs": [
        {
          "output_type": "stream",
          "name": "stdout",
          "text": [
            "(25000,)\n"
          ]
        }
      ]
    },
    {
      "cell_type": "code",
      "source": [
        "print(y_train.shape)"
      ],
      "metadata": {
        "colab": {
          "base_uri": "https://localhost:8080/"
        },
        "id": "bvwdcURLVsNE",
        "outputId": "5b34bbb5-8688-41e1-ab45-863450e3a41f"
      },
      "execution_count": null,
      "outputs": [
        {
          "output_type": "stream",
          "name": "stdout",
          "text": [
            "(25000,)\n"
          ]
        }
      ]
    },
    {
      "cell_type": "code",
      "source": [
        "print(x_test.shape)"
      ],
      "metadata": {
        "colab": {
          "base_uri": "https://localhost:8080/"
        },
        "id": "OdRGb12aVsUD",
        "outputId": "cfcab16e-96c1-4364-be5f-76508c60fca1"
      },
      "execution_count": null,
      "outputs": [
        {
          "output_type": "stream",
          "name": "stdout",
          "text": [
            "(25000,)\n"
          ]
        }
      ]
    },
    {
      "cell_type": "code",
      "source": [
        "print(y_test.shape)"
      ],
      "metadata": {
        "colab": {
          "base_uri": "https://localhost:8080/"
        },
        "id": "GfC2FAROVsc7",
        "outputId": "78974b7a-6cbd-4909-981c-e3fa62618126"
      },
      "execution_count": null,
      "outputs": [
        {
          "output_type": "stream",
          "name": "stdout",
          "text": [
            "(25000,)\n"
          ]
        }
      ]
    },
    {
      "cell_type": "code",
      "source": [
        "x_train = sequence.pad_sequences(x_train, maxlen=input_length)\n",
        "x_test = sequence.pad_sequences(x_test, maxlen=input_length)"
      ],
      "metadata": {
        "id": "7I_Uj2YhvRsC"
      },
      "execution_count": null,
      "outputs": []
    },
    {
      "cell_type": "code",
      "source": [
        "x_train.shape"
      ],
      "metadata": {
        "colab": {
          "base_uri": "https://localhost:8080/"
        },
        "id": "-xOzFr9Rv6ay",
        "outputId": "46359d9a-582f-4b94-9d11-c9bb5c942624"
      },
      "execution_count": null,
      "outputs": [
        {
          "output_type": "execute_result",
          "data": {
            "text/plain": [
              "(25000, 1000)"
            ]
          },
          "metadata": {},
          "execution_count": 88
        }
      ]
    },
    {
      "cell_type": "code",
      "source": [
        "x_test.shape"
      ],
      "metadata": {
        "colab": {
          "base_uri": "https://localhost:8080/"
        },
        "id": "4hoXcmPiv806",
        "outputId": "ae05c7a8-d691-4e20-c031-179486eabbfa"
      },
      "execution_count": null,
      "outputs": [
        {
          "output_type": "execute_result",
          "data": {
            "text/plain": [
              "(25000, 1000)"
            ]
          },
          "metadata": {},
          "execution_count": 89
        }
      ]
    },
    {
      "cell_type": "code",
      "source": [
        "from sklearn.model_selection import train_test_split\n",
        "x_train, x_val, y_train, y_val = train_test_split(x_train, y_train, test_size = 0.20, random_state = 0)"
      ],
      "metadata": {
        "id": "GNYYiErl3Utg"
      },
      "execution_count": null,
      "outputs": []
    },
    {
      "cell_type": "code",
      "source": [
        "model = Sequential()\n",
        "model.add(Embedding(top_words, 50, input_length=input_length, embeddings_regularizer=regularizers.L2(0.05)))\n",
        "model.add(BatchNormalization())\n",
        "model.add(Dropout(0.25))\n",
        "model.add(LSTM(32))\n",
        "model.add(BatchNormalization())\n",
        "model.add(Dropout(0.25))\n",
        "model.add(Dense(1, activation='sigmoid'))\n",
        "model.summary()"
      ],
      "metadata": {
        "colab": {
          "base_uri": "https://localhost:8080/"
        },
        "id": "br4vIEgxK1x3",
        "outputId": "9eb7cbf7-854c-423c-ed19-d366d435376c"
      },
      "execution_count": null,
      "outputs": [
        {
          "output_type": "stream",
          "name": "stdout",
          "text": [
            "Model: \"sequential_4\"\n",
            "_________________________________________________________________\n",
            " Layer (type)                Output Shape              Param #   \n",
            "=================================================================\n",
            " embedding_3 (Embedding)     (None, 1000, 50)          1000000   \n",
            "                                                                 \n",
            " batch_normalization (BatchN  (None, 1000, 50)         200       \n",
            " ormalization)                                                   \n",
            "                                                                 \n",
            " dropout (Dropout)           (None, 1000, 50)          0         \n",
            "                                                                 \n",
            " lstm_3 (LSTM)               (None, 32)                10624     \n",
            "                                                                 \n",
            " batch_normalization_1 (Batc  (None, 32)               128       \n",
            " hNormalization)                                                 \n",
            "                                                                 \n",
            " dropout_1 (Dropout)         (None, 32)                0         \n",
            "                                                                 \n",
            " dense_3 (Dense)             (None, 1)                 33        \n",
            "                                                                 \n",
            "=================================================================\n",
            "Total params: 1,010,985\n",
            "Trainable params: 1,010,821\n",
            "Non-trainable params: 164\n",
            "_________________________________________________________________\n"
          ]
        }
      ]
    },
    {
      "cell_type": "code",
      "source": [
        "model.compile(optimizer = 'adam', loss = 'binary_crossentropy', metrics = ['accuracy'])"
      ],
      "metadata": {
        "id": "h4hYi-zkLVgo"
      },
      "execution_count": null,
      "outputs": []
    },
    {
      "cell_type": "code",
      "source": [
        "history = model.fit(x_train, y_train, batch_size=16, validation_data=(x_val, y_val), validation_batch_size=16 , epochs=10)"
      ],
      "metadata": {
        "colab": {
          "base_uri": "https://localhost:8080/"
        },
        "id": "wb9H4jQFLn44",
        "outputId": "4b31df68-ea64-47f1-aaba-381be65a72fa"
      },
      "execution_count": null,
      "outputs": [
        {
          "output_type": "stream",
          "name": "stdout",
          "text": [
            "Epoch 1/10\n",
            "1250/1250 [==============================] - 414s 330ms/step - loss: 1.4960 - accuracy: 0.7230 - val_loss: 0.8138 - val_accuracy: 0.8284\n",
            "Epoch 2/10\n",
            "1250/1250 [==============================] - 415s 332ms/step - loss: 0.8152 - accuracy: 0.8234 - val_loss: 0.7116 - val_accuracy: 0.8520\n",
            "Epoch 3/10\n",
            "1250/1250 [==============================] - 421s 336ms/step - loss: 0.7882 - accuracy: 0.8360 - val_loss: 0.7320 - val_accuracy: 0.8544\n",
            "Epoch 4/10\n",
            "1250/1250 [==============================] - 418s 335ms/step - loss: 0.8155 - accuracy: 0.8452 - val_loss: 0.7551 - val_accuracy: 0.8686\n",
            "Epoch 5/10\n",
            "1250/1250 [==============================] - 441s 353ms/step - loss: 0.7889 - accuracy: 0.8510 - val_loss: 0.6772 - val_accuracy: 0.8712\n",
            "Epoch 6/10\n",
            "1250/1250 [==============================] - 438s 350ms/step - loss: 0.7848 - accuracy: 0.8540 - val_loss: 0.7286 - val_accuracy: 0.8780\n",
            "Epoch 7/10\n",
            "1250/1250 [==============================] - 457s 366ms/step - loss: 0.7769 - accuracy: 0.8573 - val_loss: 0.7190 - val_accuracy: 0.8672\n",
            "Epoch 8/10\n",
            "1250/1250 [==============================] - 410s 328ms/step - loss: 0.7577 - accuracy: 0.8572 - val_loss: 0.6976 - val_accuracy: 0.8700\n",
            "Epoch 9/10\n",
            "1250/1250 [==============================] - 410s 328ms/step - loss: 0.7414 - accuracy: 0.8620 - val_loss: 0.6531 - val_accuracy: 0.8818\n",
            "Epoch 10/10\n",
            "1250/1250 [==============================] - 415s 332ms/step - loss: 0.7473 - accuracy: 0.8569 - val_loss: 0.6910 - val_accuracy: 0.8710\n"
          ]
        }
      ]
    },
    {
      "cell_type": "code",
      "source": [
        "test_loss, test_acc = model.evaluate(x_test, y_test, verbose=0)\n",
        "print('\\nTest accuracy:', (test_acc*100))"
      ],
      "metadata": {
        "id": "1CYIklpMMiXA",
        "colab": {
          "base_uri": "https://localhost:8080/"
        },
        "outputId": "f1c63ad0-455f-458f-d5f0-f74c7992395a"
      },
      "execution_count": null,
      "outputs": [
        {
          "output_type": "stream",
          "name": "stdout",
          "text": [
            "\n",
            "Test accuracy: 87.30400204658508\n"
          ]
        }
      ]
    },
    {
      "cell_type": "code",
      "source": [
        "plt.plot(history.history['loss'], color='r')\n",
        "plt.title('Model loss')\n",
        "plt.xlabel('epoch')\n",
        "plt.ylabel('loss')\n",
        "plt.legend(['train_lose'], loc='upper right')\n",
        "plt.show()"
      ],
      "metadata": {
        "id": "eLFdFwpNqoQQ",
        "colab": {
          "base_uri": "https://localhost:8080/",
          "height": 295
        },
        "outputId": "54d86bb0-e6fa-408d-a1e2-7f8558c2a52e"
      },
      "execution_count": null,
      "outputs": [
        {
          "output_type": "display_data",
          "data": {
            "text/plain": [
              "<Figure size 432x288 with 1 Axes>"
            ],
            "image/png": "[encoded data removed]"
          },
          "metadata": {
            "needs_background": "light"
          }
        }
      ]
    },
    {
      "cell_type": "code",
      "source": [
        "plt.plot(history.history['accuracy'], color='b')\n",
        "plt.title('Model accuracy')\n",
        "plt.xlabel('epoch')\n",
        "plt.ylabel('accuracy')\n",
        "plt.legend(['train_acc'], loc='upper left')\n",
        "plt.show()"
      ],
      "metadata": {
        "id": "0cbjXRI3mso8",
        "colab": {
          "base_uri": "https://localhost:8080/",
          "height": 295
        },
        "outputId": "bac05415-95b5-4c6b-f3ef-16b7cee01122"
      },
      "execution_count": null,
      "outputs": [
        {
          "output_type": "display_data",
          "data": {
            "text/plain": [
              "<Figure size 432x288 with 1 Axes>"
            ],
            "image/png": "[encoded data removed]"
          },
          "metadata": {
            "needs_background": "light"
          }
        }
      ]
    },
    {
      "cell_type": "code",
      "source": [
        "y_pred = model.predict(x_test)\n",
        "y_pred = (y_pred > 0.5)"
      ],
      "metadata": {
        "id": "8VUdO0thxBVu"
      },
      "execution_count": null,
      "outputs": []
    },
    {
      "cell_type": "code",
      "source": [
        "from sklearn.metrics import confusion_matrix, accuracy_score\n",
        "cm = confusion_matrix(y_test, y_pred)\n",
        "print(cm)\n",
        "accuracy_score(y_test, y_pred)"
      ],
      "metadata": {
        "id": "0Nwo4DyeWGxc",
        "colab": {
          "base_uri": "https://localhost:8080/"
        },
        "outputId": "036f7b65-adc2-4939-9083-ddda7c1f80ae"
      },
      "execution_count": null,
      "outputs": [
        {
          "output_type": "stream",
          "name": "stdout",
          "text": [
            "[[11297  1203]\n",
            " [ 1971 10529]]\n"
          ]
        },
        {
          "output_type": "execute_result",
          "data": {
            "text/plain": [
              "0.87304"
            ]
          },
          "metadata": {},
          "execution_count": 99
        }
      ]
    }
  ]
}